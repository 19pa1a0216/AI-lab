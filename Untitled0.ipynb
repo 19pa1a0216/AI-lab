{
  "nbformat": 4,
  "nbformat_minor": 0,
  "metadata": {
    "colab": {
      "name": "Untitled0.ipynb",
      "provenance": [],
      "collapsed_sections": [],
      "authorship_tag": "ABX9TyMZnaaXV1ZVyt2KKRaNf6h9",
      "include_colab_link": true
    },
    "kernelspec": {
      "name": "python3",
      "display_name": "Python 3"
    }
  },
  "cells": [
    {
      "cell_type": "markdown",
      "metadata": {
        "id": "view-in-github",
        "colab_type": "text"
      },
      "source": [
        "<a href=\"https://colab.research.google.com/github/19pa1a0216/AI-lab/blob/master/Untitled0.ipynb\" target=\"_parent\"><img src=\"https://colab.research.google.com/assets/colab-badge.svg\" alt=\"Open In Colab\"/></a>"
      ]
    },
    {
      "cell_type": "markdown",
      "metadata": {
        "id": "toDVhr-pMbfE",
        "colab_type": "text"
      },
      "source": [
        ""
      ]
    },
    {
      "cell_type": "code",
      "metadata": {
        "id": "fZRhZG18Eueh",
        "colab_type": "code",
        "colab": {
          "base_uri": "https://localhost:8080/",
          "height": 34
        },
        "outputId": "2ddd0110-45e5-4b55-f48b-47a9f060a39a"
      },
      "source": [
        " \n",
        "import numpy as np\n",
        "a = np.arange(5)\n",
        "a"
      ],
      "execution_count": null,
      "outputs": [
        {
          "output_type": "execute_result",
          "data": {
            "text/plain": [
              "array([0, 1, 2, 3, 4])"
            ]
          },
          "metadata": {
            "tags": []
          },
          "execution_count": 3
        }
      ]
    },
    {
      "cell_type": "markdown",
      "metadata": {
        "id": "UcVZsPvvMZLy",
        "colab_type": "text"
      },
      "source": [
        ""
      ]
    },
    {
      "cell_type": "code",
      "metadata": {
        "id": "bdu2XTfWKG_d",
        "colab_type": "code",
        "colab": {
          "base_uri": "https://localhost:8080/",
          "height": 34
        },
        "outputId": "723c1954-7b46-45dc-b83f-4a834454407a"
      },
      "source": [
        " \n",
        "import numpy as np\n",
        "a = np.array([4,6,7])\n",
        "a"
      ],
      "execution_count": null,
      "outputs": [
        {
          "output_type": "execute_result",
          "data": {
            "text/plain": [
              "array([4, 6, 7])"
            ]
          },
          "metadata": {
            "tags": []
          },
          "execution_count": 4
        }
      ]
    },
    {
      "cell_type": "code",
      "metadata": {
        "id": "oAeeM4npKRLD",
        "colab_type": "code",
        "colab": {
          "base_uri": "https://localhost:8080/",
          "height": 51
        },
        "outputId": "752e3170-d1e4-43ae-8925-c03180ca0eb6"
      },
      "source": [
        " \n",
        "import numpy as np\n",
        "s = np.array([[1,2,3],[4,5,6]])\n",
        "s"
      ],
      "execution_count": null,
      "outputs": [
        {
          "output_type": "execute_result",
          "data": {
            "text/plain": [
              "array([[1, 2, 3],\n",
              "       [4, 5, 6]])"
            ]
          },
          "metadata": {
            "tags": []
          },
          "execution_count": 5
        }
      ]
    },
    {
      "cell_type": "code",
      "metadata": {
        "id": "8Zl4aFg3KZev",
        "colab_type": "code",
        "colab": {
          "base_uri": "https://localhost:8080/",
          "height": 34
        },
        "outputId": "3b7eb964-314b-4589-d96e-e47570f81900"
      },
      "source": [
        " \n",
        "import numpy as np\n",
        "a = np.zeros(5)\n",
        "a"
      ],
      "execution_count": null,
      "outputs": [
        {
          "output_type": "execute_result",
          "data": {
            "text/plain": [
              "array([0., 0., 0., 0., 0.])"
            ]
          },
          "metadata": {
            "tags": []
          },
          "execution_count": 6
        }
      ]
    },
    {
      "cell_type": "code",
      "metadata": {
        "id": "ZlG1PHGXKeRq",
        "colab_type": "code",
        "colab": {
          "base_uri": "https://localhost:8080/",
          "height": 54
        },
        "outputId": "843e73b3-9c2e-4fc1-e027-ba93cd19fe19"
      },
      "source": [
        " \n",
        "import numpy as np\n",
        "a = np.linspace(10,20,num=5)\n",
        "a"
      ],
      "execution_count": null,
      "outputs": [
        {
          "output_type": "execute_result",
          "data": {
            "text/plain": [
              "array([10. , 12.5, 15. , 17.5, 20. ])"
            ]
          },
          "metadata": {
            "tags": []
          },
          "execution_count": 7
        }
      ]
    },
    {
      "cell_type": "markdown",
      "metadata": {
        "id": "rs55ESeHMp6h",
        "colab_type": "text"
      },
      "source": [
        " ADD, remove, modify elements"
      ]
    },
    {
      "cell_type": "code",
      "metadata": {
        "id": "WakXxV8AKl1y",
        "colab_type": "code",
        "colab": {
          "base_uri": "https://localhost:8080/",
          "height": 54
        },
        "outputId": "853465a8-27bd-4f86-c765-295377ebde24"
      },
      "source": [
        " \n",
        "import numpy as np\n",
        "q = np.arange(1,11)\n",
        "a = np.insert(q,3,10)\n",
        "a"
      ],
      "execution_count": null,
      "outputs": [
        {
          "output_type": "execute_result",
          "data": {
            "text/plain": [
              "array([ 1,  2,  3, 10,  4,  5,  6,  7,  8,  9, 10])"
            ]
          },
          "metadata": {
            "tags": []
          },
          "execution_count": 8
        }
      ]
    },
    {
      "cell_type": "code",
      "metadata": {
        "id": "jUQlckizKvG6",
        "colab_type": "code",
        "colab": {
          "base_uri": "https://localhost:8080/",
          "height": 54
        },
        "outputId": "6669e003-e417-4b05-ab07-41d487150e10"
      },
      "source": [
        " \n",
        "import numpy as np\n",
        "q = np.arange(1,19)\n",
        "a = np.delete(q,3)\n",
        "a"
      ],
      "execution_count": null,
      "outputs": [
        {
          "output_type": "execute_result",
          "data": {
            "text/plain": [
              "array([ 1,  2,  3,  5,  6,  7,  8,  9, 10, 11, 12, 13, 14, 15, 16, 17, 18])"
            ]
          },
          "metadata": {
            "tags": []
          },
          "execution_count": 9
        }
      ]
    },
    {
      "cell_type": "code",
      "metadata": {
        "id": "y3Cp72o-K6bQ",
        "colab_type": "code",
        "colab": {
          "base_uri": "https://localhost:8080/",
          "height": 34
        },
        "outputId": "9ab46d8c-9be8-4053-932d-154c3d94a32a"
      },
      "source": [
        " \n",
        "import numpy as np\n",
        "e = np.array([1,2,3])\n",
        "s = e*2\n",
        "s"
      ],
      "execution_count": null,
      "outputs": [
        {
          "output_type": "execute_result",
          "data": {
            "text/plain": [
              "array([2, 4, 6])"
            ]
          },
          "metadata": {
            "tags": []
          },
          "execution_count": 10
        }
      ]
    },
    {
      "cell_type": "markdown",
      "metadata": {
        "id": "8LSA-40qM5vh",
        "colab_type": "text"
      },
      "source": [
        " Arthematic operations on numpy"
      ]
    },
    {
      "cell_type": "code",
      "metadata": {
        "id": "unO2VtvXLDJ2",
        "colab_type": "code",
        "colab": {
          "base_uri": "https://localhost:8080/",
          "height": 34
        },
        "outputId": "e94ac9f2-8d40-4cde-aba9-f8ff4755d4d5"
      },
      "source": [
        " \n",
        "import numpy as np\n",
        "s = np.arange(5)\n",
        "q = np.append(s,10)\n",
        "q"
      ],
      "execution_count": null,
      "outputs": [
        {
          "output_type": "execute_result",
          "data": {
            "text/plain": [
              "array([ 0,  1,  2,  3,  4, 10])"
            ]
          },
          "metadata": {
            "tags": []
          },
          "execution_count": 11
        }
      ]
    },
    {
      "cell_type": "markdown",
      "metadata": {
        "id": "TfPQhUlwNEVM",
        "colab_type": "text"
      },
      "source": [
        " Arthematic operations on numpy"
      ]
    },
    {
      "cell_type": "code",
      "metadata": {
        "id": "L2Jjxc0_LMxx",
        "colab_type": "code",
        "colab": {
          "base_uri": "https://localhost:8080/",
          "height": 343
        },
        "outputId": "91da25aa-38d9-449f-b723-901aadb84d51"
      },
      "source": [
        " \n",
        "import numpy as np\n",
        "a = np.random.random((3,3))\n",
        "b = np.random.random((3,3))\n",
        "print(np.add(a,b))\n",
        "print(np.subtract(a,b))\n",
        "print(np.multiply(a,b))\n",
        "print(np.mod(a,b))\n",
        "print(np.divide(a,b))\n",
        "print (np.power(a,b))"
      ],
      "execution_count": null,
      "outputs": [
        {
          "output_type": "stream",
          "text": [
            "[[0.36884979 0.78402805 1.33859676]\n",
            " [0.86752751 1.34587367 0.47352308]\n",
            " [1.2811847  0.67958929 0.93999761]]\n",
            "[[-0.13226634 -0.27014375  0.39435641]\n",
            " [-0.27655628 -0.17935488 -0.3671289 ]\n",
            " [-0.04469276 -0.00933496 -0.76526468]]\n",
            "[[0.02963895 0.13543058 0.40908108]\n",
            " [0.16903015 0.44480194 0.02236012]\n",
            " [0.4098592  0.11543861 0.07449137]]\n",
            "[[0.11829173 0.25694215 0.39435641]\n",
            " [0.29548561 0.58325939 0.05319709]\n",
            " [0.61824597 0.33512716 0.08736646]]\n",
            "[[0.47211302 0.4874768  1.83528819]\n",
            " [0.51654541 0.76481573 0.12656151]\n",
            " [0.93258387 0.9728999  0.10246689]]\n",
            "[[0.58576206 0.48857646 0.93457411]\n",
            " [0.49787991 0.66289207 0.29137854]\n",
            " [0.72703067 0.68620314 0.12512888]]\n"
          ],
          "name": "stdout"
        }
      ]
    },
    {
      "cell_type": "markdown",
      "metadata": {
        "id": "TsUdQs1fNKG8",
        "colab_type": "text"
      },
      "source": [
        " Slicing and iterating of numpy arrays"
      ]
    },
    {
      "cell_type": "code",
      "metadata": {
        "id": "-bnlLObWLUg1",
        "colab_type": "code",
        "colab": {
          "base_uri": "https://localhost:8080/",
          "height": 34
        },
        "outputId": "b22f1402-e9d3-40eb-bb0b-6116a1ca7831"
      },
      "source": [
        " \n",
        "import numpy as np\n",
        "a = np.arange(9)\n",
        "s =a[1: 6]\n",
        "s"
      ],
      "execution_count": null,
      "outputs": [
        {
          "output_type": "execute_result",
          "data": {
            "text/plain": [
              "array([1, 2, 3, 4, 5])"
            ]
          },
          "metadata": {
            "tags": []
          },
          "execution_count": 13
        }
      ]
    },
    {
      "cell_type": "markdown",
      "metadata": {
        "id": "CTQg0xr0Na98",
        "colab_type": "text"
      },
      "source": [
        " Iterating"
      ]
    },
    {
      "cell_type": "code",
      "metadata": {
        "id": "KmIYeKzdLjPP",
        "colab_type": "code",
        "colab": {
          "base_uri": "https://localhost:8080/",
          "height": 51
        },
        "outputId": "5f12598c-a168-4582-982b-8b1028474706"
      },
      "source": [
        " \n",
        "import numpy as np\n",
        "arr = np.array([[1, 2, 3], [4, 5, 6]])\n",
        "for x in arr:\n",
        "  print(x)"
      ],
      "execution_count": null,
      "outputs": [
        {
          "output_type": "stream",
          "text": [
            "[1 2 3]\n",
            "[4 5 6]\n"
          ],
          "name": "stdout"
        }
      ]
    },
    {
      "cell_type": "code",
      "metadata": {
        "id": "WbgeXnJALlz0",
        "colab_type": "code",
        "colab": {
          "base_uri": "https://localhost:8080/",
          "height": 68
        },
        "outputId": "f92ee421-adbf-4746-88d8-f282a42e0fd6"
      },
      "source": [
        " \n",
        "import numpy as np\n",
        "arr = np.array([1, 2, 3])\n",
        "for x in arr:\n",
        "  print(x)"
      ],
      "execution_count": null,
      "outputs": [
        {
          "output_type": "stream",
          "text": [
            "1\n",
            "2\n",
            "3\n"
          ],
          "name": "stdout"
        }
      ]
    },
    {
      "cell_type": "markdown",
      "metadata": {
        "id": "mFefwg0IMOwo",
        "colab_type": "text"
      },
      "source": [
        " Matrix operations on numpy arrays"
      ]
    },
    {
      "cell_type": "code",
      "metadata": {
        "id": "zYhD28jULrHz",
        "colab_type": "code",
        "colab": {
          "base_uri": "https://localhost:8080/",
          "height": 153
        },
        "outputId": "714a062f-b50e-4578-b2d6-895a6d55b2a5"
      },
      "source": [
        " \n",
        "import numpy as np\n",
        "b = np.array([[1,2],[4,5]])\n",
        "c = np.array([[6,7],[7,9]])\n",
        "print(np.add(b,c))\n",
        "print(np.subtract(b,c))\n",
        "print(np.multiply(b,c))\n",
        "print (np.divide(b,c))"
      ],
      "execution_count": null,
      "outputs": [
        {
          "output_type": "stream",
          "text": [
            "[[ 7  9]\n",
            " [11 14]]\n",
            "[[-5 -5]\n",
            " [-3 -4]]\n",
            "[[ 6 14]\n",
            " [28 45]]\n",
            "[[0.16666667 0.28571429]\n",
            " [0.57142857 0.55555556]]\n"
          ],
          "name": "stdout"
        }
      ]
    }
  ]
}